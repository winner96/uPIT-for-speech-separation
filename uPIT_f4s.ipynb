{
  "nbformat": 4,
  "nbformat_minor": 0,
  "metadata": {
    "colab": {
      "name": "uPIT_f4s.ipynb",
      "provenance": [],
      "collapsed_sections": [],
      "include_colab_link": true
    },
    "kernelspec": {
      "name": "python3",
      "display_name": "Python 3"
    },
    "accelerator": "GPU"
  },
  "cells": [
    {
      "cell_type": "markdown",
      "metadata": {
        "id": "view-in-github",
        "colab_type": "text"
      },
      "source": [
        "<a href=\"https://colab.research.google.com/github/winner96/uPIT-for-speech-separation/blob/master/uPIT_f4s.ipynb\" target=\"_parent\"><img src=\"https://colab.research.google.com/assets/colab-badge.svg\" alt=\"Open In Colab\"/></a>"
      ]
    },
    {
      "cell_type": "code",
      "metadata": {
        "id": "dvagQwpl5hS0",
        "colab": {
          "base_uri": "https://localhost:8080/"
        },
        "outputId": "5399eff8-a826-4ab6-d83a-b4b2477e803b"
      },
      "source": [
        "from google.colab import drive\n",
        "drive.mount(\"/content/drive\")"
      ],
      "execution_count": 1,
      "outputs": [
        {
          "output_type": "stream",
          "text": [
            "Mounted at /content/drive\n"
          ],
          "name": "stdout"
        }
      ]
    },
    {
      "cell_type": "code",
      "metadata": {
        "id": "x3HrNpq95y6I",
        "colab": {
          "base_uri": "https://localhost:8080/"
        },
        "outputId": "17d12732-455a-4050-e346-e7d259145434"
      },
      "source": [
        "!git clone https://github.com/winner96/uPIT-for-speech-separation.git"
      ],
      "execution_count": 2,
      "outputs": [
        {
          "output_type": "stream",
          "text": [
            "Cloning into 'uPIT-for-speech-separation'...\n",
            "remote: Enumerating objects: 74, done.\u001b[K\n",
            "remote: Counting objects: 100% (74/74), done.\u001b[K\n",
            "remote: Compressing objects: 100% (74/74), done.\u001b[K\n",
            "remote: Total 195 (delta 41), reused 0 (delta 0), pack-reused 121\u001b[K\n",
            "Receiving objects: 100% (195/195), 75.62 KiB | 452.00 KiB/s, done.\n",
            "Resolving deltas: 100% (106/106), done.\n"
          ],
          "name": "stdout"
        }
      ]
    },
    {
      "cell_type": "code",
      "metadata": {
        "id": "vIzl2Zd_guse",
        "colab": {
          "base_uri": "https://localhost:8080/"
        },
        "outputId": "c792a91a-795f-4252-81d9-67dea3738b9d"
      },
      "source": [
        "root = \"/content/uPIT-for-speech-separation\"\n",
        "!echo $root"
      ],
      "execution_count": 3,
      "outputs": [
        {
          "output_type": "stream",
          "text": [
            "/content/uPIT-for-speech-separation\n"
          ],
          "name": "stdout"
        }
      ]
    },
    {
      "cell_type": "code",
      "metadata": {
        "id": "4m9VY2m28cKn",
        "colab": {
          "base_uri": "https://localhost:8080/"
        },
        "outputId": "e68e4a63-021b-47e4-c9a4-06b842b457c6"
      },
      "source": [
        "%cd $root\n",
        "!ls"
      ],
      "execution_count": 4,
      "outputs": [
        {
          "output_type": "stream",
          "text": [
            "/content/uPIT-for-speech-separation\n",
            "cmvn5s.dict\t dataset.py\t     README.md\t       trainer.py\n",
            "cmvn.dict\t make_scp.py\t     requirements.txt  trimaudio.ipynb\n",
            "compute_cmvn.py  make_test_scp.py    run_pit.py        uPIT_f.ipynb\n",
            "conf\t\t model.py\t     scripts\t       utils.py\n",
            "configs\t\t oracle_separate.py  separate.py\n"
          ],
          "name": "stdout"
        }
      ]
    },
    {
      "cell_type": "code",
      "metadata": {
        "id": "x23NN_CLPRr3",
        "colab": {
          "base_uri": "https://localhost:8080/"
        },
        "outputId": "d9a4af06-58ca-4301-bfc1-73d6572ab48c"
      },
      "source": [
        "avs_data_z = \"avs_4s.zip\"\n",
        "avs_data = \"avs_4s\"\n",
        "\n",
        "print(\"start donwload\")\n",
        "![ ! -d ./$avs_data ] && rsync /content/drive/MyDrive/$avs_data_z ./$avs_data_z && echo \"zip downloaded\"\n",
        "\n",
        "print(\"start unzip\")\n",
        "\n",
        "![ ! -d $root/$avs_data ] && jar xf ./$avs_data_z && echo \"zip unziped\"\n",
        "![ -d $root/$avs_data ] && rm ./$avs_data_z && echo \"remove .zip\""
      ],
      "execution_count": null,
      "outputs": [
        {
          "output_type": "stream",
          "text": [
            "start donwload\n"
          ],
          "name": "stdout"
        }
      ]
    },
    {
      "cell_type": "code",
      "metadata": {
        "id": "r1G1q0Lg6Iaa"
      },
      "source": [
        "pip install -r $root/requirements.txt"
      ],
      "execution_count": null,
      "outputs": []
    },
    {
      "cell_type": "code",
      "metadata": {
        "id": "905WqrmP9rXe"
      },
      "source": [
        "!chmod -R 755 $root"
      ],
      "execution_count": null,
      "outputs": []
    },
    {
      "cell_type": "code",
      "metadata": {
        "id": "jwm8K6M5Xo_U"
      },
      "source": [
        "!python $root/make_scp.py ./avs_4s"
      ],
      "execution_count": null,
      "outputs": []
    },
    {
      "cell_type": "code",
      "metadata": {
        "id": "lwpG6BDk7ot9"
      },
      "source": [
        "![ ! -f $root/cmvn4s.dict ] && python $root/compute_cmvn.py $root/scp/tr_mx.scp $root/cmvn4s.dict"
      ],
      "execution_count": null,
      "outputs": []
    },
    {
      "cell_type": "code",
      "metadata": {
        "id": "d3imLtUEbXHy"
      },
      "source": [
        "import pickle"
      ],
      "execution_count": null,
      "outputs": []
    },
    {
      "cell_type": "code",
      "metadata": {
        "id": "kmeaP62NBtJw"
      },
      "source": [
        "\n",
        "!python $root/run_pit.py --config $root/configs/1_4s_config.yaml --num-epoches 60\n",
        "# --load /content/drive/MyDrive/checkpoint/2spk_pit_psm_c5s/epoch.24.pkl --start 25\n"
      ],
      "execution_count": null,
      "outputs": []
    },
    {
      "cell_type": "code",
      "metadata": {
        "id": "CP0Z_Y4u3nuK"
      },
      "source": [
        "#code for separate\n",
        "\n"
      ],
      "execution_count": null,
      "outputs": []
    }
  ]
}