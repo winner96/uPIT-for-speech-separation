{
  "nbformat": 4,
  "nbformat_minor": 0,
  "metadata": {
    "colab": {
      "name": "uPIT_f.ipynb",
      "provenance": [],
      "collapsed_sections": [],
      "include_colab_link": true
    },
    "kernelspec": {
      "name": "python3",
      "display_name": "Python 3"
    },
    "accelerator": "GPU"
  },
  "cells": [
    {
      "cell_type": "markdown",
      "metadata": {
        "id": "view-in-github",
        "colab_type": "text"
      },
      "source": [
        "<a href=\"https://colab.research.google.com/github/winner96/uPIT-for-speech-separation/blob/master/uPIT_f.ipynb\" target=\"_parent\"><img src=\"https://colab.research.google.com/assets/colab-badge.svg\" alt=\"Open In Colab\"/></a>"
      ]
    },
    {
      "cell_type": "code",
      "metadata": {
        "colab": {
          "base_uri": "https://localhost:8080/"
        },
        "id": "dvagQwpl5hS0",
        "outputId": "9cacfe7c-e083-4e56-dc2c-5159bb3555d9"
      },
      "source": [
        "from google.colab import drive\n",
        "drive.mount(\"/content/drive\")"
      ],
      "execution_count": 1,
      "outputs": [
        {
          "output_type": "stream",
          "text": [
            "Mounted at /content/drive\n"
          ],
          "name": "stdout"
        }
      ]
    },
    {
      "cell_type": "code",
      "metadata": {
        "colab": {
          "base_uri": "https://localhost:8080/"
        },
        "id": "x3HrNpq95y6I",
        "outputId": "8637d4fc-3927-4059-e280-6e10aa10e093"
      },
      "source": [
        "!git clone https://github.com/winner96/uPIT-for-speech-separation.git"
      ],
      "execution_count": 2,
      "outputs": [
        {
          "output_type": "stream",
          "text": [
            "Cloning into 'uPIT-for-speech-separation'...\n",
            "remote: Enumerating objects: 10, done.\u001b[K\n",
            "remote: Counting objects: 100% (10/10), done.\u001b[K\n",
            "remote: Compressing objects: 100% (9/9), done.\u001b[K\n",
            "remote: Total 100 (delta 2), reused 0 (delta 0), pack-reused 90\u001b[K\n",
            "Receiving objects: 100% (100/100), 32.07 KiB | 8.02 MiB/s, done.\n",
            "Resolving deltas: 100% (55/55), done.\n"
          ],
          "name": "stdout"
        }
      ]
    },
    {
      "cell_type": "code",
      "metadata": {
        "colab": {
          "base_uri": "https://localhost:8080/"
        },
        "id": "vIzl2Zd_guse",
        "outputId": "d944f9d1-94a8-4757-dd9c-9a1266a6c8ff"
      },
      "source": [
        "root = \"/content/uPIT-for-speech-separation\"\n",
        "!echo $root"
      ],
      "execution_count": 3,
      "outputs": [
        {
          "output_type": "stream",
          "text": [
            "/content/uPIT-for-speech-separation\n"
          ],
          "name": "stdout"
        }
      ]
    },
    {
      "cell_type": "code",
      "metadata": {
        "colab": {
          "base_uri": "https://localhost:8080/"
        },
        "id": "4m9VY2m28cKn",
        "outputId": "b353c9a9-ffdc-430f-e161-1eecaea50e41"
      },
      "source": [
        "%cd $root\n",
        "!ls"
      ],
      "execution_count": 4,
      "outputs": [
        {
          "output_type": "stream",
          "text": [
            "/content/uPIT-for-speech-separation\n",
            "compute_cmvn.py  dataset.py\t     README.md\t       scripts\t    utils.py\n",
            "conf\t\t model.py\t     requirements.txt  separate.py\n",
            "configs\t\t oracle_separate.py  run_pit.py        trainer.py\n"
          ],
          "name": "stdout"
        }
      ]
    },
    {
      "cell_type": "code",
      "metadata": {
        "colab": {
          "base_uri": "https://localhost:8080/"
        },
        "id": "x23NN_CLPRr3",
        "outputId": "a8cab3f1-f794-4fdf-9933-ea4b07dc15bd"
      },
      "source": [
        "avs_data_z = \"avs_audio.zip\"\n",
        "avs_data = \"avs_audio\"\n",
        "\n",
        "print(\"start donwload\")\n",
        "![ ! -f $avs_data_z ] && rsync /content/drive/MyDrive/$avs_data_z ./$avs_data_z && echo \"zip downloaded\"\n",
        "\n",
        "print(\"start unzip\")\n",
        "\n",
        "![ ! -d $root/$avs_data ] && jar xf ./$avs_data_z && echo \"zip unziped\"\n",
        "!rm ./$avs_data_z && echo \"remove .zip\""
      ],
      "execution_count": 5,
      "outputs": [
        {
          "output_type": "stream",
          "text": [
            "start donwload\n",
            "zip downloaded\n",
            "start unzip\n",
            "zip unziped\n",
            "remove .zip\n"
          ],
          "name": "stdout"
        }
      ]
    },
    {
      "cell_type": "code",
      "metadata": {
        "colab": {
          "base_uri": "https://localhost:8080/",
          "height": 1000
        },
        "id": "r1G1q0Lg6Iaa",
        "outputId": "5d56f6d1-69bf-46e2-fbb0-90091aed3347"
      },
      "source": [
        "pip install -r $root/requirements.txt"
      ],
      "execution_count": 6,
      "outputs": [
        {
          "output_type": "stream",
          "text": [
            "Collecting torch==1.3.0\n",
            "\u001b[?25l  Downloading https://files.pythonhosted.org/packages/ae/05/50a05de5337f7a924bb8bd70c6936230642233e424d6a9747ef1cfbde353/torch-1.3.0-cp36-cp36m-manylinux1_x86_64.whl (773.1MB)\n",
            "\u001b[K     |████████████████████████████████| 773.1MB 22kB/s \n",
            "\u001b[?25hCollecting tqdm==4.32.1\n",
            "\u001b[?25l  Downloading https://files.pythonhosted.org/packages/45/af/685bf3ce889ea191f3b916557f5677cc95a5e87b2fa120d74b5dd6d049d0/tqdm-4.32.1-py2.py3-none-any.whl (49kB)\n",
            "\u001b[K     |████████████████████████████████| 51kB 7.7MB/s \n",
            "\u001b[?25hCollecting librosa==0.7.1\n",
            "\u001b[?25l  Downloading https://files.pythonhosted.org/packages/0b/71/c21ccef81276d85b9e3a36d80dad5baaf8a91f912e65eff0fd0d74a5a19c/librosa-0.7.1.tar.gz (1.6MB)\n",
            "\u001b[K     |████████████████████████████████| 1.6MB 49.4MB/s \n",
            "\u001b[?25hCollecting scipy==1.3.0\n",
            "\u001b[?25l  Downloading https://files.pythonhosted.org/packages/72/4c/5f81e7264b0a7a8bd570810f48cd346ba36faedbd2ba255c873ad556de76/scipy-1.3.0-cp36-cp36m-manylinux1_x86_64.whl (25.2MB)\n",
            "\u001b[K     |████████████████████████████████| 25.2MB 132kB/s \n",
            "\u001b[?25hCollecting numpy==1.16.4\n",
            "\u001b[?25l  Downloading https://files.pythonhosted.org/packages/87/2d/e4656149cbadd3a8a0369fcd1a9c7d61cc7b87b3903b85389c70c989a696/numpy-1.16.4-cp36-cp36m-manylinux1_x86_64.whl (17.3MB)\n",
            "\u001b[K     |████████████████████████████████| 17.3MB 115kB/s \n",
            "\u001b[?25hCollecting PyYAML==5.1.1\n",
            "\u001b[?25l  Downloading https://files.pythonhosted.org/packages/a3/65/837fefac7475963d1eccf4aa684c23b95aa6c1d033a2c5965ccb11e22623/PyYAML-5.1.1.tar.gz (274kB)\n",
            "\u001b[K     |████████████████████████████████| 276kB 56.1MB/s \n",
            "\u001b[?25hRequirement already satisfied: audioread>=2.0.0 in /usr/local/lib/python3.6/dist-packages (from librosa==0.7.1->-r /content/uPIT-for-speech-separation/requirements.txt (line 3)) (2.1.9)\n",
            "Requirement already satisfied: scikit-learn!=0.19.0,>=0.14.0 in /usr/local/lib/python3.6/dist-packages (from librosa==0.7.1->-r /content/uPIT-for-speech-separation/requirements.txt (line 3)) (0.22.2.post1)\n",
            "Requirement already satisfied: joblib>=0.12 in /usr/local/lib/python3.6/dist-packages (from librosa==0.7.1->-r /content/uPIT-for-speech-separation/requirements.txt (line 3)) (0.17.0)\n",
            "Requirement already satisfied: decorator>=3.0.0 in /usr/local/lib/python3.6/dist-packages (from librosa==0.7.1->-r /content/uPIT-for-speech-separation/requirements.txt (line 3)) (4.4.2)\n",
            "Requirement already satisfied: six>=1.3 in /usr/local/lib/python3.6/dist-packages (from librosa==0.7.1->-r /content/uPIT-for-speech-separation/requirements.txt (line 3)) (1.15.0)\n",
            "Requirement already satisfied: resampy>=0.2.2 in /usr/local/lib/python3.6/dist-packages (from librosa==0.7.1->-r /content/uPIT-for-speech-separation/requirements.txt (line 3)) (0.2.2)\n",
            "Requirement already satisfied: numba>=0.43.0 in /usr/local/lib/python3.6/dist-packages (from librosa==0.7.1->-r /content/uPIT-for-speech-separation/requirements.txt (line 3)) (0.48.0)\n",
            "Collecting soundfile>=0.9.0\n",
            "  Downloading https://files.pythonhosted.org/packages/eb/f2/3cbbbf3b96fb9fa91582c438b574cff3f45b29c772f94c400e2c99ef5db9/SoundFile-0.10.3.post1-py2.py3-none-any.whl\n",
            "Requirement already satisfied: setuptools in /usr/local/lib/python3.6/dist-packages (from numba>=0.43.0->librosa==0.7.1->-r /content/uPIT-for-speech-separation/requirements.txt (line 3)) (50.3.2)\n",
            "Requirement already satisfied: llvmlite<0.32.0,>=0.31.0dev0 in /usr/local/lib/python3.6/dist-packages (from numba>=0.43.0->librosa==0.7.1->-r /content/uPIT-for-speech-separation/requirements.txt (line 3)) (0.31.0)\n",
            "Requirement already satisfied: cffi>=1.0 in /usr/local/lib/python3.6/dist-packages (from soundfile>=0.9.0->librosa==0.7.1->-r /content/uPIT-for-speech-separation/requirements.txt (line 3)) (1.14.3)\n",
            "Requirement already satisfied: pycparser in /usr/local/lib/python3.6/dist-packages (from cffi>=1.0->soundfile>=0.9.0->librosa==0.7.1->-r /content/uPIT-for-speech-separation/requirements.txt (line 3)) (2.20)\n",
            "Building wheels for collected packages: librosa, PyYAML\n",
            "  Building wheel for librosa (setup.py) ... \u001b[?25l\u001b[?25hdone\n",
            "  Created wheel for librosa: filename=librosa-0.7.1-cp36-none-any.whl size=1610157 sha256=d9b712ca46c534ac476f394f50314739dccd13ea60077d602ede3bab898188db\n",
            "  Stored in directory: /root/.cache/pip/wheels/07/36/47/a9a4d151332cbdaec564500af9704a0ad862cf554dcf4bfda0\n",
            "  Building wheel for PyYAML (setup.py) ... \u001b[?25l\u001b[?25hdone\n",
            "  Created wheel for PyYAML: filename=PyYAML-5.1.1-cp36-cp36m-linux_x86_64.whl size=44100 sha256=d301bebfbf78d162ed314d32b0f3cf5e4beaad93b3cd2970645cc701a7c2362c\n",
            "  Stored in directory: /root/.cache/pip/wheels/16/27/a1/775c62ddea7bfa62324fd1f65847ed31c55dadb6051481ba3f\n",
            "Successfully built librosa PyYAML\n",
            "\u001b[31mERROR: umap-learn 0.4.6 has requirement numpy>=1.17, but you'll have numpy 1.16.4 which is incompatible.\u001b[0m\n",
            "\u001b[31mERROR: umap-learn 0.4.6 has requirement scipy>=1.3.1, but you'll have scipy 1.3.0 which is incompatible.\u001b[0m\n",
            "\u001b[31mERROR: torchvision 0.8.1+cu101 has requirement torch==1.7.0, but you'll have torch 1.3.0 which is incompatible.\u001b[0m\n",
            "\u001b[31mERROR: tensorflow 2.3.0 has requirement scipy==1.4.1, but you'll have scipy 1.3.0 which is incompatible.\u001b[0m\n",
            "\u001b[31mERROR: spacy 2.2.4 has requirement tqdm<5.0.0,>=4.38.0, but you'll have tqdm 4.32.1 which is incompatible.\u001b[0m\n",
            "\u001b[31mERROR: fbprophet 0.7.1 has requirement tqdm>=4.36.1, but you'll have tqdm 4.32.1 which is incompatible.\u001b[0m\n",
            "\u001b[31mERROR: datascience 0.10.6 has requirement folium==0.2.1, but you'll have folium 0.8.3 which is incompatible.\u001b[0m\n",
            "\u001b[31mERROR: albumentations 0.1.12 has requirement imgaug<0.2.7,>=0.2.5, but you'll have imgaug 0.2.9 which is incompatible.\u001b[0m\n",
            "Installing collected packages: numpy, torch, tqdm, scipy, soundfile, librosa, PyYAML\n",
            "  Found existing installation: numpy 1.18.5\n",
            "    Uninstalling numpy-1.18.5:\n",
            "      Successfully uninstalled numpy-1.18.5\n",
            "  Found existing installation: torch 1.7.0+cu101\n",
            "    Uninstalling torch-1.7.0+cu101:\n",
            "      Successfully uninstalled torch-1.7.0+cu101\n",
            "  Found existing installation: tqdm 4.41.1\n",
            "    Uninstalling tqdm-4.41.1:\n",
            "      Successfully uninstalled tqdm-4.41.1\n",
            "  Found existing installation: scipy 1.4.1\n",
            "    Uninstalling scipy-1.4.1:\n",
            "      Successfully uninstalled scipy-1.4.1\n",
            "  Found existing installation: librosa 0.6.3\n",
            "    Uninstalling librosa-0.6.3:\n",
            "      Successfully uninstalled librosa-0.6.3\n",
            "  Found existing installation: PyYAML 3.13\n",
            "    Uninstalling PyYAML-3.13:\n",
            "      Successfully uninstalled PyYAML-3.13\n",
            "Successfully installed PyYAML-5.1.1 librosa-0.7.1 numpy-1.16.4 scipy-1.3.0 soundfile-0.10.3.post1 torch-1.3.0 tqdm-4.32.1\n"
          ],
          "name": "stdout"
        },
        {
          "output_type": "display_data",
          "data": {
            "application/vnd.colab-display-data+json": {
              "pip_warning": {
                "packages": [
                  "numpy"
                ]
              }
            }
          },
          "metadata": {
            "tags": []
          }
        }
      ]
    },
    {
      "cell_type": "code",
      "metadata": {
        "id": "905WqrmP9rXe"
      },
      "source": [
        "!chmod -R 755 $root"
      ],
      "execution_count": 7,
      "outputs": []
    },
    {
      "cell_type": "code",
      "metadata": {
        "colab": {
          "base_uri": "https://localhost:8080/"
        },
        "id": "jwm8K6M5Xo_U",
        "outputId": "03961b7d-ffa9-4434-9beb-046f50c53bce"
      },
      "source": [
        "!python $root/make_scp.py\n"
      ],
      "execution_count": 8,
      "outputs": [
        {
          "output_type": "stream",
          "text": [
            "made /content/uPIT-for-speech-separation/scp\n",
            "train scp done\n",
            "test scp done\n",
            "cross validation scp done\n"
          ],
          "name": "stdout"
        }
      ]
    },
    {
      "cell_type": "code",
      "metadata": {
        "id": "lwpG6BDk7ot9",
        "colab": {
          "base_uri": "https://localhost:8080/"
        },
        "outputId": "58dec58d-f62f-4e6e-fd9b-bd13fa9433f1"
      },
      "source": [
        "![ ! -f $root/cmvn.dict ] && python $root/compute_cmvn.py $root/scp/tr_mx.scp $root/cmvn.dict"
      ],
      "execution_count": 9,
      "outputs": [
        {
          "output_type": "stream",
          "text": [
            "2020-11-22 15:38:53,389 [/content/uPIT-for-speech-separation/dataset.py:32 - INFO ] Create SpectrogramReader for /content/uPIT-for-speech-separation/scp/tr_mx.scp with 11000 utterances\n",
            "100% 11000/11000 [01:17<00:00, 141.84it/s]\n",
            "Totally processed 10247395 frames\n",
            "Global mean: [0.2997594  0.71926643 1.63566245 2.32738478 2.49458489 2.35660675\n",
            " 2.38693876 2.42109148 2.24258472 1.96341174 1.69273107 1.42693255\n",
            " 1.17887962 0.96797977 0.81100943 0.70222181 0.62321968 0.56603316\n",
            " 0.52445333 0.49257595 0.46846244 0.44966679 0.43404743 0.42025397\n",
            " 0.40728411 0.39173565 0.37293576 0.35298567 0.33236566 0.31227881\n",
            " 0.29287571 0.27487152 0.25974601 0.24747444 0.23854263 0.23328922\n",
            " 0.23095619 0.2308874  0.231603   0.2315114  0.22964026 0.22535518\n",
            " 0.2188982  0.20928901 0.19855478 0.18839961 0.17883314 0.1703579\n",
            " 0.16347256 0.157687   0.15310585 0.14951231 0.14664498 0.1450826\n",
            " 0.14407301 0.14288463 0.1414998  0.13949926 0.13692807 0.13387796\n",
            " 0.13022445 0.12623853 0.12242838 0.11843276 0.11441298 0.11054469\n",
            " 0.10679325 0.10333015 0.10006186 0.09685012 0.09398808 0.09106975\n",
            " 0.08832944 0.08595224 0.08374079 0.08158243 0.07967177 0.07806372\n",
            " 0.0766778  0.07555947 0.07461382 0.07350431 0.07236911 0.07164109\n",
            " 0.07101046 0.07031794 0.0697438  0.069305   0.0686965  0.06824996\n",
            " 0.06784667 0.0674586  0.06716064 0.06681486 0.06651052 0.06626678\n",
            " 0.06596958 0.06559521 0.06508042 0.06469523 0.06443415 0.06408722\n",
            " 0.06351674 0.06306921 0.06252625 0.06205067 0.06164005 0.06099199\n",
            " 0.06017215 0.05939131 0.05857223 0.05759146 0.05647279 0.05514859\n",
            " 0.05353209 0.05169597 0.0497218  0.04760683 0.04528199 0.04271745\n",
            " 0.03985811 0.03686289 0.03386063 0.03083801 0.0278941  0.02523565\n",
            " 0.02321944 0.02222673 0.01992016]\n",
            "Global std: [0.85291226 1.27006832 2.45631737 3.16266591 3.47899845 3.51019059\n",
            " 3.70924323 3.8623524  3.71599318 3.3999045  3.11356712 2.8014308\n",
            " 2.45115559 2.08278077 1.79443966 1.58188846 1.41878915 1.30310984\n",
            " 1.21546925 1.14784185 1.09865544 1.054837   1.01210833 0.97223407\n",
            " 0.9444232  0.91327575 0.87164791 0.82607518 0.77980452 0.7243565\n",
            " 0.67428433 0.62706667 0.58368391 0.55010046 0.52264354 0.50326244\n",
            " 0.48960985 0.48575355 0.48410288 0.47987004 0.47665432 0.47357384\n",
            " 0.46894541 0.45115763 0.42981983 0.41506369 0.39873831 0.38047587\n",
            " 0.37131922 0.35871518 0.34666424 0.33723098 0.32990596 0.3290215\n",
            " 0.33061799 0.3303462  0.32807025 0.3241183  0.31896455 0.31334706\n",
            " 0.30310989 0.29337655 0.28729624 0.27888686 0.27097968 0.26484061\n",
            " 0.2568525  0.2513442  0.24752823 0.24296941 0.24001011 0.23484755\n",
            " 0.22939394 0.22585764 0.22295257 0.21998641 0.21707164 0.21608957\n",
            " 0.21475708 0.21374931 0.21317624 0.2098803  0.20768521 0.2073951\n",
            " 0.20691735 0.20520247 0.20447041 0.20505629 0.20370077 0.20334117\n",
            " 0.20327913 0.2040705  0.20545828 0.20473012 0.20381725 0.20418845\n",
            " 0.20364188 0.20208186 0.19939063 0.19836464 0.19904054 0.19924191\n",
            " 0.19655335 0.19512472 0.19466751 0.19287041 0.19222854 0.19113142\n",
            " 0.18841645 0.18578395 0.18414391 0.1816613  0.17859624 0.17543125\n",
            " 0.1708741  0.16631411 0.16099259 0.1551363  0.14858665 0.14098687\n",
            " 0.13140164 0.1219833  0.11273819 0.10353485 0.09266337 0.08353036\n",
            " 0.07661715 0.0730213  0.07366484]\n"
          ],
          "name": "stdout"
        }
      ]
    },
    {
      "cell_type": "code",
      "metadata": {
        "id": "d3imLtUEbXHy"
      },
      "source": [
        "import pickle"
      ],
      "execution_count": 11,
      "outputs": []
    },
    {
      "cell_type": "code",
      "metadata": {
        "colab": {
          "base_uri": "https://localhost:8080/"
        },
        "id": "kmeaP62NBtJw",
        "outputId": "5a50ff67-a71f-4c40-8e7e-3bd234ee5733"
      },
      "source": [
        "#!python3 /content/uPIT-for-speech-separation/run_pit.py --config /content/drive/MyDrive/configs/2config.yaml --num-epoches 100 > /content/uPIT-for-speech-separation/check/train.log 2>&1 &\n",
        "!python $root/run_pit.py --config $root/configs/2fconfig.yaml --num-epoches 5\n"
      ],
      "execution_count": null,
      "outputs": [
        {
          "output_type": "stream",
          "text": [
            "2020-11-22 16:21:34,406 [/content/uPIT-for-speech-separation/run_pit.py:36 - INFO ] Start training in normal model\n",
            "/content/uPIT-for-speech-separation/utils.py:138: YAMLLoadWarning: calling yaml.load() without Loader=... is deprecated, as the default Loader is unsafe. Please read https://msg.pyyaml.org/load for full details.\n",
            "  config_dict = yaml.load(f)\n",
            "2020-11-22 16:21:34,412 [/content/uPIT-for-speech-separation/run_pit.py:43 - INFO ] Training with IRM\n",
            "2020-11-22 16:21:34,412 [/content/uPIT-for-speech-separation/run_pit.py:47 - INFO ] Training in 8 utterance per batch\n",
            "2020-11-22 16:21:34,425 [/content/uPIT-for-speech-separation/dataset.py:32 - INFO ] Create SpectrogramReader for /content/uPIT-for-speech-separation/scp/tr_mx.scp with 11000 utterances\n",
            "2020-11-22 16:21:34,437 [/content/uPIT-for-speech-separation/dataset.py:32 - INFO ] Create SpectrogramReader for /content/uPIT-for-speech-separation/scp/tr_s1.scp with 11000 utterances\n",
            "2020-11-22 16:21:34,448 [/content/uPIT-for-speech-separation/dataset.py:32 - INFO ] Create SpectrogramReader for /content/uPIT-for-speech-separation/scp/tr_s2.scp with 11000 utterances\n",
            "2020-11-22 16:21:34,448 [/content/uPIT-for-speech-separation/dataset.py:171 - INFO ] Using cmvn dictionary from /content/uPIT-for-speech-separation/cmvn.dict\n",
            "2020-11-22 16:21:34,450 [/content/uPIT-for-speech-separation/dataset.py:32 - INFO ] Create SpectrogramReader for /content/uPIT-for-speech-separation/scp/cv_mx.scp with 1000 utterances\n",
            "2020-11-22 16:21:34,451 [/content/uPIT-for-speech-separation/dataset.py:32 - INFO ] Create SpectrogramReader for /content/uPIT-for-speech-separation/scp/cv_s1.scp with 1000 utterances\n",
            "2020-11-22 16:21:34,513 [/content/uPIT-for-speech-separation/dataset.py:32 - INFO ] Create SpectrogramReader for /content/uPIT-for-speech-separation/scp/cv_s2.scp with 1000 utterances\n",
            "2020-11-22 16:21:34,513 [/content/uPIT-for-speech-separation/dataset.py:171 - INFO ] Using cmvn dictionary from /content/uPIT-for-speech-separation/cmvn.dict\n",
            "2020-11-22 16:21:34,513 [/content/uPIT-for-speech-separation/run_pit.py:64 - INFO ] Training for 5 epoches -> /content/drive/MyDrive/checkpoint/2spk_pit_b...\n",
            "2020-11-22 16:21:34,934 [/content/uPIT-for-speech-separation/trainer.py:61 - INFO ] Network structure:\n",
            "PITNet(\n",
            "  (rnn): LSTM(129, 896, num_layers=3, batch_first=True, dropout=0.5, bidirectional=True)\n",
            "  (drops): Dropout(p=0.5, inplace=False)\n",
            "  (linear): ModuleList(\n",
            "    (0): Linear(in_features=1792, out_features=129, bias=True)\n",
            "    (1): Linear(in_features=1792, out_features=129, bias=True)\n",
            "  )\n",
            ")\n",
            "2020-11-22 16:21:34,935 [/content/uPIT-for-speech-separation/trainer.py:34 - INFO ] Create optimizer adam: {'lr': 0.001, 'weight_decay': 0}\n",
            "2020-11-22 16:21:42,313 [/content/uPIT-for-speech-separation/trainer.py:83 - INFO ] Clip gradient by 2-norm 200\n",
            "2020-11-22 16:21:42,314 [/content/uPIT-for-speech-separation/trainer.py:117 - INFO ] Cross Validate...\n",
            "2020-11-22 16:23:33,839 [/content/uPIT-for-speech-separation/dataset.py:307 - INFO ] Processed 1000 utterances in total\n",
            "2020-11-22 16:23:33,839 [/content/uPIT-for-speech-separation/trainer.py:134 - INFO ] Epoch  0: dev = 102.2559\n",
            "2020-11-22 16:23:34,664 [/content/uPIT-for-speech-separation/trainer.py:89 - INFO ] Training...\n",
            "2020-11-22 16:31:33,139 [/content/uPIT-for-speech-separation/dataset.py:305 - INFO ] Processed 250 batches, 2000 utterances\n",
            "2020-11-22 16:39:36,344 [/content/uPIT-for-speech-separation/dataset.py:305 - INFO ] Processed 500 batches, 4000 utterances\n",
            "2020-11-22 16:47:37,034 [/content/uPIT-for-speech-separation/dataset.py:305 - INFO ] Processed 750 batches, 6000 utterances\n",
            "2020-11-22 16:55:41,413 [/content/uPIT-for-speech-separation/dataset.py:305 - INFO ] Processed 1000 batches, 8000 utterances\n",
            "2020-11-22 17:03:45,567 [/content/uPIT-for-speech-separation/dataset.py:305 - INFO ] Processed 1250 batches, 10000 utterances\n",
            "2020-11-22 17:07:49,922 [/content/uPIT-for-speech-separation/dataset.py:307 - INFO ] Processed 11000 utterances in total\n",
            "2020-11-22 17:07:49,924 [/content/uPIT-for-speech-separation/trainer.py:117 - INFO ] Cross Validate...\n",
            "2020-11-22 17:09:47,052 [/content/uPIT-for-speech-separation/dataset.py:307 - INFO ] Processed 1000 utterances in total\n",
            "2020-11-22 17:09:47,053 [/content/uPIT-for-speech-separation/trainer.py:150 - INFO ] Loss(time/mini-batch) - Epoch  1: train = 36.4338(2655.26s/1375) | dev = 36.5543(117.13s/125)\n",
            "2020-11-22 17:09:47,946 [/content/uPIT-for-speech-separation/trainer.py:89 - INFO ] Training...\n"
          ],
          "name": "stdout"
        }
      ]
    }
  ]
}