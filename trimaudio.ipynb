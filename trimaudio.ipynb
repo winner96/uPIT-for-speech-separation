{
  "nbformat": 4,
  "nbformat_minor": 0,
  "metadata": {
    "colab": {
      "name": "trimaudio.ipynb",
      "provenance": [],
      "collapsed_sections": [],
      "authorship_tag": "ABX9TyMtImbOTP655yToxy+l1LtV",
      "include_colab_link": true
    },
    "kernelspec": {
      "name": "python3",
      "display_name": "Python 3"
    }
  },
  "cells": [
    {
      "cell_type": "markdown",
      "metadata": {
        "id": "view-in-github",
        "colab_type": "text"
      },
      "source": [
        "<a href=\"https://colab.research.google.com/github/winner96/uPIT-for-speech-separation/blob/master/trimaudio.ipynb\" target=\"_parent\"><img src=\"https://colab.research.google.com/assets/colab-badge.svg\" alt=\"Open In Colab\"/></a>"
      ]
    },
    {
      "cell_type": "code",
      "metadata": {
        "colab": {
          "base_uri": "https://localhost:8080/"
        },
        "id": "CnVRONdJeymY",
        "outputId": "5cb31d96-d1d1-4119-8243-57fdcbca1542"
      },
      "source": [
        "from google.colab import drive\n",
        "drive.mount(\"/content/drive\")"
      ],
      "execution_count": 1,
      "outputs": [
        {
          "output_type": "stream",
          "text": [
            "Mounted at /content/drive\n"
          ],
          "name": "stdout"
        }
      ]
    },
    {
      "cell_type": "code",
      "metadata": {
        "colab": {
          "base_uri": "https://localhost:8080/"
        },
        "id": "ouJQnb6Ee9Jw",
        "outputId": "52498ef1-3b8c-4172-90c8-943890f5c82e"
      },
      "source": [
        "!pip install --upgrade pydub"
      ],
      "execution_count": 2,
      "outputs": [
        {
          "output_type": "stream",
          "text": [
            "Collecting pydub\n",
            "  Downloading https://files.pythonhosted.org/packages/7b/d1/fbfa79371a8cd9bb15c2e3c480d7e6e340ed5cc55005174e16f48418333a/pydub-0.24.1-py2.py3-none-any.whl\n",
            "Installing collected packages: pydub\n",
            "Successfully installed pydub-0.24.1\n"
          ],
          "name": "stdout"
        }
      ]
    },
    {
      "cell_type": "code",
      "metadata": {
        "colab": {
          "base_uri": "https://localhost:8080/"
        },
        "id": "J0IZck-ZfBts",
        "outputId": "b7dc2e1d-1024-41b4-e9e3-fecc8128dced"
      },
      "source": [
        "d = \"/content/drive/MyDrive/avs_test\"\n",
        "base = \"/content/avs_5s/\"\n",
        "mid = [\"avs_tr\", \"avs_tt\", \"avs_cv\"]\n",
        "spk = [\"spk1\", \"spk2\", \"mix\"]\n",
        "\n",
        "![ ! -d $base ] && mkdir $base\n",
        "\n",
        "for mids in mid:\n",
        "  dir_mid = base+mids\n",
        "  ![ ! -d $dir_mid ] && mkdir $dir_mid\n",
        "  for spks in spk:\n",
        "    dir = dir_mid + \"/\"+spks\n",
        "    ![ ! -d $dir ] && mkdir $dir  && echo made $dir\n",
        "#    print(dir)\n",
        "\n",
        "#if not ipynb but .py use {import os} instead bash"
      ],
      "execution_count": 3,
      "outputs": [
        {
          "output_type": "stream",
          "text": [
            "made /content/avs_5s/avs_tr/spk1\n",
            "made /content/avs_5s/avs_tr/spk2\n",
            "made /content/avs_5s/avs_tr/mix\n",
            "made /content/avs_5s/avs_tt/spk1\n",
            "made /content/avs_5s/avs_tt/spk2\n",
            "made /content/avs_5s/avs_tt/mix\n",
            "made /content/avs_5s/avs_cv/spk1\n",
            "made /content/avs_5s/avs_cv/spk2\n",
            "made /content/avs_5s/avs_cv/mix\n"
          ],
          "name": "stdout"
        }
      ]
    },
    {
      "cell_type": "code",
      "metadata": {
        "id": "v1dO1W7K1tsP",
        "colab": {
          "base_uri": "https://localhost:8080/"
        },
        "outputId": "6f7bf122-6614-49c3-d264-679001cfd92e"
      },
      "source": [
        "root = \"/content\"\n",
        "avs_data_z = \"avs_audio.zip\"\n",
        "avs_data = \"avs_audio\"\n",
        "\n",
        "print(\"start donwload\")\n",
        "![ ! -d ./$avs_data ] && rsync /content/drive/MyDrive/$avs_data_z ./$avs_data_z && echo \"zip downloaded\"\n",
        "\n",
        "print(\"start unzip\")\n",
        "\n",
        "![ ! -d $root/$avs_data ] && jar xf ./$avs_data_z && echo \"zip unziped\"\n",
        "![ -d $root/$avs_data ] && rm ./$avs_data_z && echo \"remove .zip\"\n",
        "\n",
        "tr1 = \"/content/avs_audio/avs_tr/spk1/\"\n",
        "tr2 = \"/content/avs_audio/avs_tr/spk2/\"\n",
        "tr = \"/content/avs_audio/avs_tr/mix/\"\n",
        "tt1 = \"/content/avs_audio/avs_tt/spk1/\"\n",
        "tt2 = \"/content/avs_audio/avs_tt/spk2/\"\n",
        "tt = \"/content/avs_audio/avs_tt/mix/\"\n",
        "cv1 = \"/content/avs_audio/avs_cv/spk1/\"\n",
        "cv2 = \"/content/avs_audio/avs_cv/spk2/\"\n",
        "cv = \"/content/avs_audio/avs_cv/mix/\"\n",
        "\n",
        "\n",
        "sr = 16000 # sampling rate\n"
      ],
      "execution_count": 4,
      "outputs": [
        {
          "output_type": "stream",
          "text": [
            "start donwload\n",
            "zip downloaded\n",
            "start unzip\n",
            "zip unziped\n",
            "remove .zip\n"
          ],
          "name": "stdout"
        }
      ]
    },
    {
      "cell_type": "code",
      "metadata": {
        "colab": {
          "base_uri": "https://localhost:8080/"
        },
        "id": "N-898GHHeFUJ",
        "outputId": "913651f8-e223-47ce-8ce3-14dffc267984"
      },
      "source": [
        "!ls $tr1 -1 | wc -l\n",
        "!ls $tt1 -1 | wc -l\n",
        "!ls $cv1 -1 | wc -l"
      ],
      "execution_count": 5,
      "outputs": [
        {
          "output_type": "stream",
          "text": [
            "11000\n",
            "1000\n",
            "1000\n"
          ],
          "name": "stdout"
        }
      ]
    },
    {
      "cell_type": "code",
      "metadata": {
        "colab": {
          "base_uri": "https://localhost:8080/"
        },
        "id": "4ZRJrTtCiJ4Q",
        "outputId": "19f6e066-dc35-4fc7-eab0-d056ef0934ea"
      },
      "source": [
        "from pydub import AudioSegment\n",
        "import os\n",
        "\n",
        "print(\"start tr\")\n",
        "\n",
        "s1 =[]\n",
        "s1_name = []\n",
        "s2 =[]\n",
        "s2_name = []\n",
        "\n",
        "for root, dirs, files in os.walk(tr1):\n",
        "    for filename in files:\n",
        "        s1.append(os.path.join(root,filename))\n",
        "        s1_name.append(filename[:-4])\n",
        "\n",
        "for root, dirs, files in os.walk(tr2):\n",
        "    for filename in files:\n",
        "        s2.append(os.path.join(root,filename))\n",
        "        s2_name.append(filename[:-4])\n",
        "\n",
        "for i in range(len(s1)):\n",
        "  spk1 = AudioSegment.from_file(s1[i])\n",
        "  spk2 = AudioSegment.from_file(s2[i])\n",
        "  frame1 = spk1.frame_count()\n",
        "  frame2 = spk2.frame_count()\n",
        "  frame = min(max(frame1, frame2), 5*sr)#max 5s\n",
        "  msec = int(1000*frame/sr)\n",
        "\n",
        "  output = AudioSegment.silent(duration = msec, frame_rate= sr)\n",
        "  spk1 = output.overlay(spk1).set_channels(1)\n",
        "  spk2 = output.overlay(spk2).set_channels(1)\n",
        "  output = spk1.overlay(spk2)\n",
        "\n",
        "  spk1_n = base + mid[0] + \"/\" + spk[0] + \"/\" + s1_name[i] + \".wav\"\n",
        "  spk2_n = base + mid[0] + \"/\" + spk[1] + \"/\" + s2_name[i] + \".wav\"\n",
        "  output_name = base + mid[0] + \"/\" + spk[2] + \"/\" + s1_name[i] + \"_\" + s2_name[i] + '.wav'\n",
        "\n",
        "#  print(output_name)\n",
        "#  print(spk1_n)\n",
        "#  print(spk2_n)\n",
        "  spk1.export(spk1_n, format='wav')\n",
        "  spk2.export(spk2_n, format='wav')\n",
        "  output.export(output_name, format='wav')\n",
        "\n",
        "print(i, \"done\")\n",
        "print(\"tr done\")"
      ],
      "execution_count": 6,
      "outputs": [
        {
          "output_type": "stream",
          "text": [
            "start tr\n",
            "10999 done\n",
            "tr done\n"
          ],
          "name": "stdout"
        }
      ]
    },
    {
      "cell_type": "code",
      "metadata": {
        "id": "pa8wuih2x6LE",
        "colab": {
          "base_uri": "https://localhost:8080/"
        },
        "outputId": "b6a0e3b7-3219-4ce9-f6b2-85f8404c2656"
      },
      "source": [
        "\n",
        "print(\"start tt\")\n",
        "\n",
        "s1 =[]\n",
        "s1_name = []\n",
        "s2 =[]\n",
        "s2_name = []\n",
        "\n",
        "for root, dirs, files in os.walk(tt1):\n",
        "    for filename in files:\n",
        "        s1.append(os.path.join(root,filename))\n",
        "        s1_name.append(filename[:-4])\n",
        "\n",
        "for root, dirs, files in os.walk(tt2):\n",
        "    for filename in files:\n",
        "        s2.append(os.path.join(root,filename))\n",
        "        s2_name.append(filename[:-4])\n",
        "\n",
        "for i in range(len(s1)):\n",
        "  spk1 = AudioSegment.from_file(s1[i])\n",
        "  spk2 = AudioSegment.from_file(s2[i])\n",
        "  frame1 = spk1.frame_count()\n",
        "  frame2 = spk2.frame_count()\n",
        "  frame = min(max(frame1, frame2), 5*sr)#max 5s\n",
        "  msec = int(1000*frame/sr)\n",
        "\n",
        "  output = AudioSegment.silent(duration = msec, frame_rate= sr)\n",
        "  spk1 = output.overlay(spk1).set_channels(1)\n",
        "  spk2 = output.overlay(spk2).set_channels(1)\n",
        "  output = spk1.overlay(spk2)\n",
        "\n",
        "  spk1_n = base + mid[1] + \"/\" + spk[0] + \"/\" + s1_name[i] + \".wav\"\n",
        "  spk2_n = base + mid[1] + \"/\" + spk[1] + \"/\" + s2_name[i] + \".wav\"\n",
        "  output_name = base + mid[1] + \"/\" + spk[2] + \"/\" + s1_name[i] + \"_\" + s2_name[i] + '.wav'\n",
        "\n",
        "#  print(output_name)\n",
        "#  print(spk1_n)\n",
        "#  print(spk2_n)\n",
        "  spk1.export(spk1_n, format='wav')\n",
        "  spk2.export(spk2_n, format='wav')\n",
        "  output.export(output_name, format='wav')\n",
        "\n",
        "\n",
        "print(i, \"done\")\n",
        "print(\"tt done\")"
      ],
      "execution_count": 7,
      "outputs": [
        {
          "output_type": "stream",
          "text": [
            "start tt\n",
            "999 done\n",
            "tt done\n"
          ],
          "name": "stdout"
        }
      ]
    },
    {
      "cell_type": "code",
      "metadata": {
        "id": "xDJ0aVltyGK3",
        "colab": {
          "base_uri": "https://localhost:8080/"
        },
        "outputId": "42e642c9-2f2f-4b82-8b19-e81ee1ee48c3"
      },
      "source": [
        "\n",
        "print(\"start cv\")\n",
        "\n",
        "s1 =[]\n",
        "s1_name = []\n",
        "s2 =[]\n",
        "s2_name = []\n",
        "\n",
        "for root, dirs, files in os.walk(cv1):\n",
        "    for filename in files:\n",
        "        s1.append(os.path.join(root,filename))\n",
        "        s1_name.append(filename[:-4])\n",
        "\n",
        "for root, dirs, files in os.walk(cv2):\n",
        "    for filename in files:\n",
        "        s2.append(os.path.join(root,filename))\n",
        "        s2_name.append(filename[:-4])\n",
        "\n",
        "for i in range(len(s1)):\n",
        "  spk1 = AudioSegment.from_file(s1[i])\n",
        "  spk2 = AudioSegment.from_file(s2[i])\n",
        "  frame1 = spk1.frame_count()\n",
        "  frame2 = spk2.frame_count()\n",
        "  frame = min(max(frame1, frame2), 5*sr)#max 5s\n",
        "  msec = int(1000*frame/sr)\n",
        "\n",
        "  output = AudioSegment.silent(duration = msec, frame_rate= sr)\n",
        "  spk1 = output.overlay(spk1).set_channels(1)\n",
        "  spk2 = output.overlay(spk2).set_channels(1)\n",
        "  output = spk1.overlay(spk2)\n",
        "\n",
        "  spk1_n = base + mid[2] + \"/\" + spk[0] + \"/\" + s1_name[i] + \".wav\"\n",
        "  spk2_n = base + mid[2] + \"/\" + spk[1] + \"/\" + s2_name[i] + \".wav\"\n",
        "  output_name = base + mid[2] + \"/\" + spk[2] + \"/\" + s1_name[i] + \"_\" + s2_name[i] + '.wav'\n",
        "\n",
        "#  print(output_name)\n",
        "#  print(spk1_n)\n",
        "#  print(spk2_n)\n",
        "  spk1.export(spk1_n, format='wav')\n",
        "  spk2.export(spk2_n, format='wav')\n",
        "  output.export(output_name, format='wav')\n",
        "\n",
        "print(i, \"done\")\n",
        "print(\"cv done\")"
      ],
      "execution_count": 8,
      "outputs": [
        {
          "output_type": "stream",
          "text": [
            "start cv\n",
            "999 done\n",
            "cv done\n"
          ],
          "name": "stdout"
        }
      ]
    },
    {
      "cell_type": "code",
      "metadata": {
        "id": "kdK9N7--gUq_"
      },
      "source": [
        "!zip -r avs_5s.zip avs_5s"
      ],
      "execution_count": null,
      "outputs": []
    },
    {
      "cell_type": "code",
      "metadata": {
        "id": "xQ0qHB0wjFmI"
      },
      "source": [
        "!cp ./avs_5s.zip ./drive/MyDrive/avs_5s.zip"
      ],
      "execution_count": 10,
      "outputs": []
    }
  ]
}